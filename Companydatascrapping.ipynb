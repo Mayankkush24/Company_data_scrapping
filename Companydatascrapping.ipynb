{
 "cells": [
  {
   "cell_type": "code",
   "execution_count": 1,
   "id": "ba11b0fb",
   "metadata": {},
   "outputs": [],
   "source": [
    "import time\n",
    "import csv\n",
    "from selenium import webdriver\n",
    "from selenium.webdriver.common.by import By\n",
    "from selenium.webdriver.chrome.service import Service\n",
    "from webdriver_manager.chrome import ChromeDriverManager\n"
   ]
  },
  {
   "cell_type": "code",
   "execution_count": 2,
   "id": "1e12c565",
   "metadata": {},
   "outputs": [],
   "source": [
    "service = Service(ChromeDriverManager().install())\n",
    "options = webdriver.ChromeOptions()\n",
    "options.add_argument('--headless') \n",
    "options.add_argument('--no-sandbox')\n",
    "options.add_argument('--disable-dev-shm-usage')\n",
    "driver = webdriver.Chrome(service=service, options=options)\n"
   ]
  },
  {
   "cell_type": "code",
   "execution_count": 3,
   "id": "de74f7d4",
   "metadata": {},
   "outputs": [],
   "source": [
    "target_url = 'https://www.yellowpages.com/search?search_terms=IT+Services&geo_location_terms=San+Francisco%2C+CA'\n",
    "driver.get(target_url)\n"
   ]
  },
  {
   "cell_type": "code",
   "execution_count": 4,
   "id": "f70f6b2c",
   "metadata": {},
   "outputs": [
    {
     "data": {
      "text/plain": [
       "110"
      ]
     },
     "execution_count": 4,
     "metadata": {},
     "output_type": "execute_result"
    }
   ],
   "source": [
    "csv_file = open('company_data.csv', mode='w', newline='', encoding='utf-8')\n",
    "csv_writer = csv.writer(csv_file)\n",
    "csv_writer.writerow(['Company Name', 'Website URL', 'Contact Number', 'Location/Address', 'Industry/Category', 'Company Description', 'Email Address'])\n"
   ]
  },
  {
   "cell_type": "code",
   "execution_count": 5,
   "id": "1cb5cd37",
   "metadata": {},
   "outputs": [],
   "source": [
    "company_limit = 50\n",
    "num_pages = 3  \n",
    "companies_scraped = 0\n",
    "\n",
    "for page in range(1, num_pages + 1):\n",
    "    time.sleep(2)  \n",
    "    \n",
    "    companies = driver.find_elements(By.CLASS_NAME, 'result')\n",
    "\n",
    "    for company in companies:\n",
    "        \n",
    "        if companies_scraped >= company_limit:\n",
    "            break\n",
    "\n",
    "        try:\n",
    "            company_name = company.find_element(By.CLASS_NAME, 'business-name').text\n",
    "        except:\n",
    "            company_name = None\n",
    "\n",
    "        try:\n",
    "            website_url = company.find_element(By.CLASS_NAME, 'track-visit-website').get_attribute('href')\n",
    "        except:\n",
    "            website_url = None\n",
    "\n",
    "        try:\n",
    "            contact_number = company.find_element(By.CLASS_NAME, 'phones').text\n",
    "        except:\n",
    "            contact_number = None\n",
    "\n",
    "        try:\n",
    "            address = company.find_element(By.CLASS_NAME, 'street-address').text\n",
    "        except:\n",
    "            address = None\n",
    "\n",
    "        industry_category = \"IT Services\"  \n",
    "\n",
    "        try:\n",
    "            description = company.find_element(By.CLASS_NAME, 'snippet').text\n",
    "        except:\n",
    "            description = None\n",
    "\n",
    "        try:\n",
    "            email_address = company.find_element(By.XPATH, \"//a[contains(@href, 'mailto:')]\").get_attribute(\"href\").replace('mailto:', '')\n",
    "        except:\n",
    "            email_address = None\n",
    "\n",
    "        csv_writer.writerow([company_name, website_url, contact_number, address, industry_category, description, email_address])\n",
    "        companies_scraped += 1\n",
    "\n",
    "    if companies_scraped >= company_limit:\n",
    "        break\n",
    "\n",
    "    try:\n",
    "        next_button = driver.find_element(By.LINK_TEXT, 'Next')\n",
    "        next_button.click()\n",
    "    except:\n",
    "        print(\"No more pages to navigate.\")\n",
    "        break\n"
   ]
  },
  {
   "cell_type": "code",
   "execution_count": 6,
   "id": "b55635f7",
   "metadata": {},
   "outputs": [
    {
     "name": "stdout",
     "output_type": "stream",
     "text": [
      "Successfully scraped data for 50 companies.\n"
     ]
    }
   ],
   "source": [
    "# Close CSV file and browser\n",
    "csv_file.close()\n",
    "driver.quit()\n",
    "\n",
    "print(f'Successfully scraped data for {companies_scraped} companies.')\n"
   ]
  },
  {
   "cell_type": "code",
   "execution_count": null,
   "id": "84fafe27",
   "metadata": {},
   "outputs": [],
   "source": []
  }
 ],
 "metadata": {
  "kernelspec": {
   "display_name": "Python 3 (ipykernel)",
   "language": "python",
   "name": "python3"
  },
  "language_info": {
   "codemirror_mode": {
    "name": "ipython",
    "version": 3
   },
   "file_extension": ".py",
   "mimetype": "text/x-python",
   "name": "python",
   "nbconvert_exporter": "python",
   "pygments_lexer": "ipython3",
   "version": "3.9.13"
  }
 },
 "nbformat": 4,
 "nbformat_minor": 5
}
